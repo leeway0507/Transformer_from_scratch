{
 "cells": [
  {
   "cell_type": "code",
   "execution_count": 7,
   "metadata": {},
   "outputs": [],
   "source": [
    "import torch\n",
    "import pandas as pd\n",
    "from torch import nn\n",
    "from torch.utils.data import Dataset\n",
    "from collections import Counter\n",
    "from torchtext.vocab import vocab\n",
    "from tqdm import tqdm\n",
    "\n",
    "\n",
    "\n",
    "class W2VDataSet(Dataset) :\n",
    "    def __init__(self,dir,index_col=0) -> None:\n",
    "        super().__init__()\n",
    "        self.data_load = pd.read_csv(dir,index_col=index_col)\n",
    "        self.vocab = vocab()\n",
    "        self.counter = Counter()\n",
    "    def hello(self) : \n",
    "        pass\n",
    "    \n",
    "    # def __getitem__() :\n",
    "    #     pass\n",
    "    # def __call__(self, ) :\n",
    "    #     pass\n"
   ]
  },
  {
   "cell_type": "code",
   "execution_count": 10,
   "metadata": {},
   "outputs": [],
   "source": [
    "list_book_intro = W2VDataSet('./data/bookraw_6-1.csv').data_load['book_intro']\n",
    "list_book_intro =list_book_intro.fillna(0)\n",
    "[sen.split('.') for sen in list_book_intro if sen != 0]"
   ]
  },
  {
   "cell_type": "code",
   "execution_count": 58,
   "metadata": {},
   "outputs": [],
   "source": [
    "import re\n",
    "asdasd = W2VDataSet('./data/bookraw_6-1.csv').data_load\n",
    "\n",
    "test = asdasd.iloc[1,1]\n",
    "\n",
    "def findHan(text: str) -> str:\n",
    "    return re.findall(\"[\\u3130-\\u318F\\uAC00-\\uD7A3]+\", text)\n",
    "    # return re.sub(\"[^\\u3130-\\u318F\\uAC00-\\uD7A3]+\",'' ,text)\n",
    "\n",
    "# print(test)\n",
    "fi_a = findHan(test)"
   ]
  },
  {
   "cell_type": "code",
   "execution_count": 78,
   "metadata": {},
   "outputs": [
    {
     "data": {
      "text/plain": [
       "0       9791158393038\n",
       "1       9791158393359\n",
       "2       9788970936208\n",
       "3       9791162245552\n",
       "4       9791163033554\n",
       "            ...      \n",
       "5276    9791192265384\n",
       "5277    9788956749167\n",
       "5278    9791186710821\n",
       "5279    9791191600889\n",
       "5280    9791165921521\n",
       "Name: col1, Length: 5281, dtype: int64"
      ]
     },
     "execution_count": 78,
     "metadata": {},
     "output_type": "execute_result"
    }
   ],
   "source": [
    "isbn = pd.read_csv('./data/rawBookInfo.csv')\n",
    "\n",
    "isbn['col1']"
   ]
  },
  {
   "cell_type": "code",
   "execution_count": 168,
   "metadata": {},
   "outputs": [],
   "source": [
    "import requests\n",
    "from bs4 import BeautifulSoup\n",
    "import re\n",
    "\n",
    "ISBN = 9791158393038\n",
    "kyoboUrl = f\"http://www.kyobobook.co.kr/product/detailViewKor.laf?ejkGb=KOR&mallGb=KOR&barcode={ISBN}\"\n",
    "kyoboHtml = requests.get(kyoboUrl)\n",
    "kyoboSoup = BeautifulSoup(kyoboHtml.content, \"html.parser\")\n",
    "\n",
    "book_title: str = kyoboSoup.find(class_=\"prod_title\").string\n",
    "\n",
    "# 도서 toc 추출, <br/>을 가지고 목차를 구분하므로 split 사용\n",
    "book_toc: str = kyoboSoup.find(class_='book_contents_item')\n",
    "book_toc = str(book_toc).split('<br/>')[1:-1]\n",
    "\n",
    "\n",
    "# 도서 소개 추출, <br/>을 가지고 목차를 구분하므로 split 사용, tag제거\n",
    "book_intro: str = kyoboSoup.find_all('div','info_text')[-1]\n",
    "book_intro_list = str(book_intro).split('<br/>')\n",
    "\n",
    "book_intro = []\n",
    "for i in book_intro_list :\n",
    "    book_intro += re.sub('<.*>','',i).split('.')\n",
    "\n",
    "\n",
    "publisher: str = kyoboSoup.find(class_='book_publish_review')\n",
    "\n",
    "if publisher is not None : \n",
    "    publisher = publisher.p.get_text()\n",
    "    publisher = publisher.split('.')\n",
    "else :\n",
    "    publisher = []\n",
    "\n",
    "result = [book_title]\n",
    "\n",
    "for chars in [book_toc,book_intro,publisher] :\n",
    "    # ''제거\n",
    "    chars = list(filter(None,chars))\n",
    "\n",
    "    # 한국어 영어 제외하고 모두 제거\n",
    "    chars = [re.sub('[^A-Za-z\\u3130-\\u318F\\uAC00-\\uD7A3]',' ' ,i) for i in chars]\n",
    "\n",
    "    # 공백 하나로 줄이기 ex) '  ' -> ' '\n",
    "    chars = [re.sub(' +',' ',i).strip(' ') for i in chars]\n",
    "\n",
    "    result.append(chars)\n",
    "\n",
    "\n"
   ]
  },
  {
   "cell_type": "code",
   "execution_count": 170,
   "metadata": {},
   "outputs": [
    {
     "data": {
      "text/html": [
       "<div>\n",
       "<style scoped>\n",
       "    .dataframe tbody tr th:only-of-type {\n",
       "        vertical-align: middle;\n",
       "    }\n",
       "\n",
       "    .dataframe tbody tr th {\n",
       "        vertical-align: top;\n",
       "    }\n",
       "\n",
       "    .dataframe thead th {\n",
       "        text-align: right;\n",
       "    }\n",
       "</style>\n",
       "<table border=\"1\" class=\"dataframe\">\n",
       "  <thead>\n",
       "    <tr style=\"text-align: right;\">\n",
       "      <th></th>\n",
       "      <th>0</th>\n",
       "      <th>1</th>\n",
       "      <th>2</th>\n",
       "      <th>3</th>\n",
       "    </tr>\n",
       "  </thead>\n",
       "  <tbody>\n",
       "    <tr>\n",
       "      <th>0</th>\n",
       "      <td>그림과 실습으로 배우는 도커 &amp; 쿠버네티스</td>\n",
       "      <td>[도커란 무엇인가, 안개 속에 숨겨진 도커의 정체는, 데이터나 프로그램을 독립된 환...</td>\n",
       "      <td>[이 책은 컨테이너 기술이 어렵게 느껴지는 엔지니어나 백엔드 기술에 자신이 없는 분...</td>\n",
       "      <td>[]</td>\n",
       "    </tr>\n",
       "  </tbody>\n",
       "</table>\n",
       "</div>"
      ],
      "text/plain": [
       "                         0                                                  1  \\\n",
       "0  그림과 실습으로 배우는 도커 & 쿠버네티스  [도커란 무엇인가, 안개 속에 숨겨진 도커의 정체는, 데이터나 프로그램을 독립된 환...   \n",
       "\n",
       "                                                   2   3  \n",
       "0  [이 책은 컨테이너 기술이 어렵게 느껴지는 엔지니어나 백엔드 기술에 자신이 없는 분...  []  "
      ]
     },
     "execution_count": 170,
     "metadata": {},
     "output_type": "execute_result"
    }
   ],
   "source": []
  },
  {
   "cell_type": "code",
   "execution_count": 166,
   "metadata": {},
   "outputs": [
    {
     "data": {
      "text/html": [
       "<div>\n",
       "<style scoped>\n",
       "    .dataframe tbody tr th:only-of-type {\n",
       "        vertical-align: middle;\n",
       "    }\n",
       "\n",
       "    .dataframe tbody tr th {\n",
       "        vertical-align: top;\n",
       "    }\n",
       "\n",
       "    .dataframe thead th {\n",
       "        text-align: right;\n",
       "    }\n",
       "</style>\n",
       "<table border=\"1\" class=\"dataframe\">\n",
       "  <thead>\n",
       "    <tr style=\"text-align: right;\">\n",
       "      <th></th>\n",
       "      <th>0</th>\n",
       "      <th>1</th>\n",
       "      <th>2</th>\n",
       "    </tr>\n",
       "  </thead>\n",
       "  <tbody>\n",
       "    <tr>\n",
       "      <th>0</th>\n",
       "      <td>1</td>\n",
       "      <td>2</td>\n",
       "      <td>3</td>\n",
       "    </tr>\n",
       "  </tbody>\n",
       "</table>\n",
       "</div>"
      ],
      "text/plain": [
       "   0  1  2\n",
       "0  1  2  3"
      ]
     },
     "execution_count": 166,
     "metadata": {},
     "output_type": "execute_result"
    }
   ],
   "source": []
  }
 ],
 "metadata": {
  "kernelspec": {
   "display_name": "Python 3.9.1 64-bit ('3.9.1')",
   "language": "python",
   "name": "python3"
  },
  "language_info": {
   "codemirror_mode": {
    "name": "ipython",
    "version": 3
   },
   "file_extension": ".py",
   "mimetype": "text/x-python",
   "name": "python",
   "nbconvert_exporter": "python",
   "pygments_lexer": "ipython3",
   "version": "3.9.1"
  },
  "orig_nbformat": 4,
  "vscode": {
   "interpreter": {
    "hash": "b2097164ba635ebffc0e3795dc845ae25b57eedf0c1eb5773ded6aee9fc1b279"
   }
  }
 },
 "nbformat": 4,
 "nbformat_minor": 2
}
