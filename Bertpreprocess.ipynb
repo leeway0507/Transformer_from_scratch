{
 "cells": [
  {
   "cell_type": "code",
   "execution_count": 5,
   "metadata": {},
   "outputs": [],
   "source": [
    "import torch\n",
    "import pandas as pd\n",
    "from torch import nn\n",
    "from torch.utils.data import Dataset\n",
    "from collections import Counter\n",
    "from torchtext.vocab import vocab\n",
    "from tqdm import tqdm\n",
    "\n",
    "\n",
    "\n",
    "class BertDataSet(Dataset) :\n",
    "    def __init__(self,dir,index_col=0) -> None:\n",
    "        super().__init__()\n",
    "        self.data_load = pd.read_csv(dir,index_col=index_col)\n",
    "        self.counter = Counter()\n",
    "        self.vocab = None\n",
    "    def hello(self) : \n",
    "        pass\n",
    "    \n",
    "    # def __getitem__() :\n",
    "    #     pass\n",
    "    # def __call__(self, ) :\n",
    "    #     pass\n"
   ]
  },
  {
   "cell_type": "code",
   "execution_count": 10,
   "metadata": {},
   "outputs": [
    {
     "name": "stdout",
     "output_type": "stream",
     "text": [
      "book_title                                              실전! 딥러닝\n",
      "book_toc      ['b 장 머신러닝 라이브러리 텐서플로와 케라스 b', '텐서플로와 딥러닝', '텐...\n",
      "book_intro    ['구글이 오픈소스화한 텐서플로 는 많은 개발자와 기업에서 사용되고 있습니다', '...\n",
      "publisher                                                    []\n",
      "Name: 599, dtype: object\n"
     ]
    }
   ],
   "source": [
    "list_book_intro = BertDataSet('./data/bookraw_10-1.csv').data_load\n",
    "\n",
    "\n",
    "\n",
    "print(a)"
   ]
  },
  {
   "cell_type": "code",
   "execution_count": null,
   "metadata": {},
   "outputs": [],
   "source": [
    "import ast \n",
    "\n",
    "def changing_string_to_list(str_list):\n",
    "    \"\"\"\n",
    "\n",
    "    dataframe안에 list를 통으로 넣으면 str으로 저장된다.\n",
    "    ast 라이브러리를 쓰면 원래 ㅣist 이지만 str 타입으로 표현된 값을 다시 list 타입으로 바꿔준다.\n",
    "\n",
    "    \"\"\"\n",
    "    return ast.literal_eval(str_list)\n",
    "\n",
    "total = []\n",
    "for row in list_book_intro.iterrows() :\n",
    "    a = row[1]\n",
    "    print(a)\n",
    "    t = []\n",
    "    for i in range(1,4) :\n",
    "        t += changing_string_to_list(a.iloc[i])\n",
    "\n",
    "    total += t\n"
   ]
  }
 ],
 "metadata": {
  "kernelspec": {
   "display_name": "Python 3.9.1 64-bit ('3.9.1')",
   "language": "python",
   "name": "python3"
  },
  "language_info": {
   "codemirror_mode": {
    "name": "ipython",
    "version": 3
   },
   "file_extension": ".py",
   "mimetype": "text/x-python",
   "name": "python",
   "nbconvert_exporter": "python",
   "pygments_lexer": "ipython3",
   "version": "3.9.1"
  },
  "orig_nbformat": 4,
  "vscode": {
   "interpreter": {
    "hash": "b2097164ba635ebffc0e3795dc845ae25b57eedf0c1eb5773ded6aee9fc1b279"
   }
  }
 },
 "nbformat": 4,
 "nbformat_minor": 2
}
