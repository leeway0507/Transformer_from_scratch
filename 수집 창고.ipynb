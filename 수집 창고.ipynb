{
 "cells": [
  {
   "cell_type": "code",
   "execution_count": 1,
   "metadata": {},
   "outputs": [
    {
     "name": "stdout",
     "output_type": "stream",
     "text": [
      "kyoboBooks 추출완료\n",
      "result_1 완료\n"
     ]
    }
   ],
   "source": [
    "import pandas as pd\n",
    "d = pd.read_csv('./data/rawBookInfo.csv', index_col=0)\n",
    "ISBNs = d.iloc[:,1].tolist()\n",
    "\n",
    "import dodoPipeline as dodo\n",
    "\n",
    "result_1 = dodo.extractKyoboMultiThread(ISBNs[5400:])\n",
    "print('result_1 완료')"
   ]
  },
  {
   "cell_type": "code",
   "execution_count": 2,
   "metadata": {},
   "outputs": [],
   "source": [
    "asd = pd.DataFrame(result_1, columns=['book_title', 'book_toc', 'book_intro', 'publisher'])\n",
    "\n",
    "asd.to_csv('./data/bookraw_10-10.csv')"
   ]
  },
  {
   "cell_type": "markdown",
   "metadata": {},
   "source": [
    "### method 수정"
   ]
  },
  {
   "cell_type": "code",
   "execution_count": null,
   "metadata": {},
   "outputs": [],
   "source": [
    "import requests\n",
    "from bs4 import BeautifulSoup\n",
    "import re \n",
    "\n",
    "ISBN = 9791158393359\n",
    "kyoboUrl = f\"http://www.kyobobook.co.kr/product/detailViewKor.laf?ejkGb=KOR&mallGb=KOR&barcode={ISBN}\"\n",
    "kyoboHtml = requests.get(kyoboUrl)\n",
    "kyoboSoup = BeautifulSoup(kyoboHtml.content, \"html.parser\")\n",
    "\n",
    "\"\"\"\n",
    "book_title, book_toc, book_intro, publisher 추출하기\n",
    "\n",
    "\"\"\"\n",
    "book_title: str = kyoboSoup.find(class_=\"prod_title\").string\n",
    "\n",
    "# 도서 toc 추출, <br/>을 가지고 목차를 구분하므로 split 사용\n",
    "book_toc: str = kyoboSoup.find(class_=\"book_contents_item\")\n",
    "book_toc = str(book_toc).split(\"<br/>\")[1:-1]\n",
    "\n",
    "# 도서 소개 추출, <br/>을 가지고 목차를 구분하므로 split 사용, tag제거\n",
    "book_intro: str = kyoboSoup.find_all(\"div\", \"info_text\")[-1]\n",
    "book_intro_list = str(book_intro).split(\"<br/>\")\n",
    "\n",
    "book_intro = []\n",
    "for i in book_intro_list:\n",
    "    book_intro += re.sub(\"<.*>\", \"\", i).split(\".\")\n",
    "\n",
    "publisher: str = kyoboSoup.find(class_=\"book_publish_review\")\n",
    "\n",
    "if publisher is not None:\n",
    "    publisher = publisher.p.get_text()\n",
    "    publisher = publisher.split(\".\")\n",
    "else:\n",
    "    publisher = []\n",
    "\n",
    "itemList = [book_title]\n",
    "\n",
    "for chars in [book_toc, book_intro, publisher]:\n",
    "    # ''제거\n",
    "    chars = list(filter(None, chars))\n",
    "\n",
    "    # 한국어 영어 제외하고 모두 제거\n",
    "    chars = [\n",
    "        re.sub(\"[^A-Za-z\\u3130-\\u318F\\uAC00-\\uD7A3]\", \" \", i) for i in chars\n",
    "    ]\n",
    "\n",
    "    # 공백 하나로 줄이기 ex) '  ' -> ' '\n",
    "    chars = [re.sub(\" +\", \" \", i).strip(\" \") for i in chars]\n",
    "\n",
    "    itemList.append(chars)"
   ]
  },
  {
   "cell_type": "code",
   "execution_count": null,
   "metadata": {},
   "outputs": [],
   "source": [
    "import pandas as pd\n",
    "\n",
    "total_data = []\n",
    "for i in range(1,10) :\n",
    "    data = pd.read_csv(f'./data/bookraw_10-{i}.csv',index_col = 0)\n",
    "    total_data.append(data)\n",
    "\n",
    "result = pd.concat(total_data)\n",
    "\n",
    "result = result.reset_index(drop=True)\n",
    "\n",
    "\n",
    "result.to_csv('./data/bookraw_total.csv')\n"
   ]
  },
  {
   "cell_type": "code",
   "execution_count": 3,
   "metadata": {},
   "outputs": [],
   "source": [
    "import pandas as pd\n",
    "\n",
    "a = pd.read_csv('./data/bookraw_total.csv',index_col = 0)"
   ]
  },
  {
   "cell_type": "code",
   "execution_count": 8,
   "metadata": {},
   "outputs": [],
   "source": [
    "a = a[a['book_title'] != 'skip'].reset_index(drop=True)"
   ]
  },
  {
   "cell_type": "code",
   "execution_count": 10,
   "metadata": {},
   "outputs": [],
   "source": [
    "a.to_csv('./data/bookraw_total.csv')"
   ]
  }
 ],
 "metadata": {
  "kernelspec": {
   "display_name": "Python 3.9.1 64-bit ('3.9.1')",
   "language": "python",
   "name": "python3"
  },
  "language_info": {
   "codemirror_mode": {
    "name": "ipython",
    "version": 3
   },
   "file_extension": ".py",
   "mimetype": "text/x-python",
   "name": "python",
   "nbconvert_exporter": "python",
   "pygments_lexer": "ipython3",
   "version": "3.9.1"
  },
  "orig_nbformat": 4,
  "vscode": {
   "interpreter": {
    "hash": "b2097164ba635ebffc0e3795dc845ae25b57eedf0c1eb5773ded6aee9fc1b279"
   }
  }
 },
 "nbformat": 4,
 "nbformat_minor": 2
}
